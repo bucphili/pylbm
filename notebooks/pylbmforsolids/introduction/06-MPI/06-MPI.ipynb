{
 "cells": [
  {
   "cell_type": "markdown",
   "id": "2de47d17-0952-41e3-906d-2b93f129a9e7",
   "metadata": {},
   "source": [
    "Pylbm for solids.\n",
    "\n",
    "Pylbm is a python-package for numerical simulations using the Lattice-Boltzmann-Method (LBM). For more general information, refer to the website https://pylbm.readthedocs.io/en/latest/, this documentation will focus on the scope of the project, which is to extend and use pylbm to solve equations of quasi-static linear elasticity in 2D. \n",
    "\n",
    "Finally, let's see how pylbm supports MPI.\n",
    "\n",
    "Running a parallel pylbm-simulation with MPI is very user-friendly: for just the computation it's sufficient to use mpiexec when running the python script:\n",
    "\n",
    "        mpiexec -n 4 mysimulation.py\n",
    "This command will run our simulation with 4 processes. Pylbm internally handles all communication, partitioning of the domain etc. When running on a cluster and trying to replicate simulations it's of course useful to store the the command in a job script or a bash script (https://scicomp.ethz.ch/wiki/Using_the_batch_system#Job_scripts).\n",
    "\n",
    "Slightly trickier is the post-processing. Every process only sees their part of the domain meaning we'd have to piece the results from all processes back together if we wanted to, say, plot the displacement over the entire domain. Two easy ways of achieving this are either by letting every process write files and handling the post-processing in a separate script or using gather-operations of MPI to let a single processor handle it. Inside the directory I have prepared the example used so far in `mysimulation.py`. We can submit the simulation as a job on the cluster with \n",
    "        \n",
    "        bash submit_job.sh\n",
    "The output of all processes are stored in `./results/data_i.out` with i being the rank of the process who wrote the file."
   ]
  },
  {
   "cell_type": "code",
   "execution_count": 1,
   "id": "215df6cf-8b05-405d-9265-d27ea6f7dc7f",
   "metadata": {},
   "outputs": [],
   "source": [
    "import numpy as np\n",
    "\n",
    "#number of processes used\n",
    "nproc = 4\n",
    "\n",
    "#read results\n",
    "results = np.loadtxt('./results/data_0.out')\n",
    "for i in range(1,nproc):\n",
    "    tmp = np.loadtxt('./results/data_'+str(i)+'.out')\n",
    "    results = np.vstack((results,tmp))\n",
    "\n",
    "#extract coordinates, displacements, stresses and strains\n",
    "x = results[:,0]\n",
    "y = results[:,1]\n",
    "u = results[:,2]\n",
    "v = results[:,3]\n",
    "sigma_xx = results[:,4]\n",
    "sigma_xy = results[:,5]\n",
    "sigma_yy = results[:,6]\n",
    "eps_xx = results[:,7]\n",
    "eps_xy = results[:,8]\n",
    "eps_yy = results[:,9]"
   ]
  },
  {
   "cell_type": "markdown",
   "id": "b3c3beee-27bd-44b0-844b-ea316bc041af",
   "metadata": {},
   "source": [
    "In `mysimulation.py` we flattened all arrays to 1D vectors before writing the files. This makes it a bit more tedious to reconstruct 2D-Arrays in post-processing, but has the benefit that we don't have to care about the exact shapes and locations of the partial domains created by MPI.   "
   ]
  },
  {
   "cell_type": "code",
   "execution_count": 15,
   "id": "1ca713f8-9d39-4be2-8d69-df156bd5d626",
   "metadata": {},
   "outputs": [],
   "source": [
    "#I have no idea how I came up with this but in the end we have an empty array z which has the shape of the entire domain on which we simulated\n",
    "#and indices x_i and y_i with which we can deal the flattened solution quantities to the correct place in the array\n",
    "x_coord = np.unique(np.sort(x))\n",
    "x_i = np.nonzero(np.atleast_2d(x).T==np.atleast_2d(x_coord))[1]\n",
    "y_coord = np.unique(np.sort(y))\n",
    "y_i = np.nonzero(np.atleast_2d(y).T==np.atleast_2d(y_coord))[1]\n",
    "size_x = np.max(x_i)+1\n",
    "size_y = np.max(y_i)+1\n",
    "z = np.zeros((size_x,size_y))"
   ]
  },
  {
   "cell_type": "code",
   "execution_count": 16,
   "id": "180cdf5c-4b9d-4597-b8bf-3e04b147804f",
   "metadata": {},
   "outputs": [
    {
     "data": {
      "image/png": "[encoded data removed]",
      "text/plain": [
       "<Figure size 640x480 with 2 Axes>"
      ]
     },
     "metadata": {},
     "output_type": "display_data"
    }
   ],
   "source": [
    "#plot the solution quantities\n",
    "\n",
    "#enter the desired solution quantity here (displacements, stresses and strains):\n",
    "quantity_to_plot = sigma_xy\n",
    "\n",
    "z[x_i,y_i] = quantity_to_plot\n",
    "#plot\n",
    "import matplotlib.pyplot as plt\n",
    "fig,ax = plt.subplots()\n",
    "im=ax.pcolormesh(z)\n",
    "fig.colorbar(im,ax=ax)\n",
    "plt.show()"
   ]
  },
  {
   "cell_type": "code",
   "execution_count": null,
   "id": "106a5efa-1529-4518-a324-aedb09c552f6",
   "metadata": {},
   "outputs": [],
   "source": []
  }
 ],
 "metadata": {
  "kernelspec": {
   "display_name": "testenv",
   "language": "python",
   "name": "testenv"
  },
  "language_info": {
   "codemirror_mode": {
    "name": "ipython",
    "version": 3
   },
   "file_extension": ".py",
   "mimetype": "text/x-python",
   "name": "python",
   "nbconvert_exporter": "python",
   "pygments_lexer": "ipython3",
   "version": "3.10.4"
  }
 },
 "nbformat": 4,
 "nbformat_minor": 5
}
