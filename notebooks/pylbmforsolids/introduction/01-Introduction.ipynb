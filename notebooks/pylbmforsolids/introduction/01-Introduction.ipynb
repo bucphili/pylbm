{
 "cells": [
  {
   "cell_type": "markdown",
   "id": "46a5f6c3-9106-4b94-9103-86316dcc31f1",
   "metadata": {},
   "source": [
    "Pylbm for solids.\n",
    "\n",
    "Pylbm is a python-package for numerical simulations using the Lattice-Boltzmann-Method (LBM). For more general information, refer to the website https://pylbm.readthedocs.io/en/latest/, this documentation will focus on the scope of the project, which is to extend and use pylbm to solve equations of quasi-static linear elasticity in 2D. \n",
    "\n",
    "This document gives a very short introduction/tutorial to get started with pylbm.\n",
    "\n",
    "## 1. Overview\n",
    "\n",
    "Pylbm is fairly simple to use: a simulation can be created by defining a dictionary which contains all relevant data (geometry, scheme, ...), creating a `pylbm.Simulation` object and then running the simulation for a number of time steps with the `pylbm.Simulation.one_time_step()` method:\n",
    "    \n",
    "```python\n",
    "import pylbm\n",
    "\n",
    "dico = {...}\n",
    "\n",
    "sim = pylbm.Simulation(dico)\n",
    "\n",
    "for i in range(N_Time_Steps):\n",
    "    sim.one_time_step()\n",
    "```\n",
    "        \n",
    "When performing a single time step, pylbm will, in this order, compute:\n",
    "    \n",
    "    Boundary Conditions\n",
    "    Transport\n",
    "    Transform Distributions to Moments (F2M)\n",
    "    1/2 Source Term\n",
    "    Relaxation\n",
    "    1/2 Source Term\n",
    "    Transform Moments to Distributions (M2F)\n",
    "\n",
    "## 2. Dictionary\n",
    "\n",
    "The dictionary contains all infos regarding the problem we want to solve, the domain, the discretization etc. Let's start building a dictionary:\n",
    "First we will define the geometry. For this we have to define a `'box'` which is a rectangle that contains the entire domain. For this box we can set the size in x and y-direction and label the edges. The labels will be important to specify boundary conditions. Complex geometries can be defined with `'elements'`, which we will see later. Next we can choose a space-step dx using the key `'space_step'` and the lattice speed with `'scheme_velocity'`. Note that the size of the box should be a multiple of dx and that the time step dt is not given explicitely but computed from the scheme velocity (=dx/dt). Below is a simple example. We can visualize the geometry by creating a `pylbm.Geometry` object.\n"
   ]
  },
  {
   "cell_type": "code",
   "execution_count": 7,
   "id": "097809b7-5ced-4e3f-8167-d07287053634",
   "metadata": {},
   "outputs": [
    {
     "name": "stderr",
     "output_type": "stream",
     "text": [
      "/cluster/home/bucphili/testenv/lib64/python3.10/site-packages/pylbm/viewer/matplotlib_viewer.py:483: UserWarning: First parameter to grid() is false, but line properties are supplied. The grid will be enabled.\n",
      "  self.ax.grid(visible, which=which, alpha=alpha)\n"
     ]
    },
    {
     "data": {
      "image/png": "[encoded data removed]",
      "text/plain": [
       "<Figure size 600x400 with 1 Axes>"
      ]
     },
     "metadata": {},
     "output_type": "display_data"
    },
    {
     "data": {
      "text/plain": [
       "<pylbm.viewer.matplotlib_viewer.Fig at 0x2b95bfe6ffd0>"
      ]
     },
     "execution_count": 7,
     "metadata": {},
     "output_type": "execute_result"
    }
   ],
   "source": [
    "import pylbm\n",
    "dico = {\n",
    "    'box' : {'x': [0,1], 'y': [0,1], 'label': -1},\n",
    "    'space_step': 0.1,\n",
    "    'scheme_velocity': 1.\n",
    "}\n",
    "geom = pylbm.Geometry(dico)\n",
    "geom.visualize(viewlabel = True)"
   ]
  },
  {
   "cell_type": "markdown",
   "id": "dd9db8a2-b5e0-4b9c-9d38-bf6bb7f540ab",
   "metadata": {},
   "source": [
    "Next, we define a scheme. Here we can specify the velocity-set, moment matrix, equilibrium moments, relaxation parameters, conserved moments and optionally source-terms. We will use the D2Q8-stencil and can specify the velocities with their usual labels:\n",
    "        \n",
    "        0: (0, 0)\n",
    "        1: (1, 0)\n",
    "        2: (0, 1)\n",
    "        3: (-1, 0)\n",
    "        4: (0, -1)\n",
    "        5: (1, 1)\n",
    "        6: (-1, 1)\n",
    "        7: (-1, -1)\n",
    "        8: (1, -1)\n",
    "This can be written compactly as\n",
    "```python\n",
    "'velocities': list(range(1,9))\n",
    "```\n",
    "Note that we start the range at 1 since we exclude the (0,0)-population. \n",
    "\n",
    "The `'M'` key is used to define a matrix M which transforms populations $f = [f_{10}, f_{01}, f_{-10},...]$ to moments as $m = M*f$. The moments m are labeled as $m = [m_{10}, m_{01}, m_{11}, m_{s}, m_{d}, m_{12}, m_{21}, m_{f}]$ and the relaxation parameters and equilibrium moments should be provided in this order. \n",
    "\n",
    "Now we can also set the conserved moments which are not relaxed towards an equilibrium. For our purposes, $m_{10}$ and $m_{01}$ are identified with the displacement field, our primary solution quantity. We can define sympy symbols for the conserved moments which will be used to refer to these quantities, in our case we will use u for the x-displacement and v for the y-displacement. Sidenote: Almost all parameters in the dictionary can and should be provided as sympy symbols, since pylbm does most of the precomputations in symbolic expressions.  \n",
    "\n",
    "Below is an example where we extend our dictionary to include the scheme (equilibrium moments, M, and relaxation parameters are already set such that this scheme would solve for the displacement field for quasi-static linear elasticity). "
   ]
  },
  {
   "cell_type": "code",
   "execution_count": 8,
   "id": "a5a07d67-15ae-46c1-a329-29017712f029",
   "metadata": {},
   "outputs": [],
   "source": [
    "import sympy as sp\n",
    "\n",
    "#define symbols\n",
    "u, v = sp.symbols('u, v')\n",
    "THETA, MU_ND, K_ND, GAMMA = sp.symbols('THETA, MU_ND, K_ND, GAMMA')\n",
    "\n",
    "#moment matrix\n",
    "M = sp.Matrix([[1,0,-1,0,1,-1,-1,1],[0,1,0,-1,1,1,-1,-1],[0,0,0,0,1,-1,1,-1],[1,1,1,1,2,2,2,2],\n",
    "    [1,-1,1,-1,0,0,0,0],[0,0,0,0,1,-1,-1,1],[0,0,0,0,1,1,-1,-1],[GAMMA,GAMMA,GAMMA,GAMMA,1+2*GAMMA,1+2*GAMMA,1+2*GAMMA,1+2*GAMMA]])\n",
    "\n",
    "#equilibrium moments in order\n",
    "Meq = [u,v,0,0,0,THETA*u,THETA*v,0]\n",
    "\n",
    "#relaxation parameters\n",
    "w10 = 0.\n",
    "w01 = 0.\n",
    "w11 = 1/(MU_ND/THETA+.5)\n",
    "ws = 1/(2*K_ND/(1+THETA)+.5)\n",
    "wd = 1/(2*MU_ND/(1-THETA)+.5)\n",
    "w12 = 1.5\n",
    "w21 = 1.5\n",
    "wf = 1.\n",
    "omega = [w10,w01,w11,ws,wd,w12,w21,wf]\n",
    "\n",
    "dico = {\n",
    "    'box' : {'x': [0,1], 'y': [0,1], 'label': -1},\n",
    "    'space_step': 0.1,\n",
    "    'scheme_velocity': 1.,\n",
    "    'schemes':[\n",
    "            {\n",
    "                'velocities': list(range(1,9)),\n",
    "                'conserved_moments': [u,v],\n",
    "                'M': M,\n",
    "                'equilibrium': Meq,\n",
    "                'relaxation_parameters': omega,\n",
    "                'source_terms': {u: 0., v: 0.}\n",
    "                }]\n",
    "    }"
   ]
  },
  {
   "cell_type": "markdown",
   "id": "0ec5c2e9-61b6-4d6a-ad43-a8f84b7168a2",
   "metadata": {},
   "source": [
    "Now we almost have everything ready to create a simulation. To finish our dictionary we have to include an initial condition, a generator and specify the pylbm-algorithm. For initial conditions we can define functions and use the `'init'` key. For the generator we will use cython. Pylbm generates code for the actual computations and can generate either numpy, loo.py or cython code. For this project I always used cython, and cannot guarantee if it works with the other options. The algorithms provided are called Base-Algorithm which computes a time-step in the order explained above, and Pull-Algorithm which combines Transport and F2M into a single function. Similarly, I always used Base-Algorithm and don't know if Pull-Algorithm works properly with the extensions I implemented.\n",
    "\n",
    "Finally we define the material parameters and include all numerical parameters with the key `'parameters'` so pylbm can relate the symbols to actual numerical values. Below is the complete dictionary. Note that I transformed material parameters and geometry to lattice units."
   ]
  },
  {
   "cell_type": "code",
   "execution_count": 4,
   "id": "3d95b824-3971-4670-a932-822f7f2b8f2d",
   "metadata": {},
   "outputs": [],
   "source": [
    "import sympy as sp\n",
    "import pylbm\n",
    "\n",
    "#geometry\n",
    "dx = 0.1\n",
    "dt = 0.1\n",
    "la = dx/dt\n",
    "L_box = 1.\n",
    "\n",
    "#characteristic dimensions\n",
    "U = 1.\n",
    "L = dx\n",
    "T = dt\n",
    "\n",
    "#geometry in lattice units\n",
    "dx_nd = dx/L\n",
    "L_box_nd = L_box/L\n",
    "la_nd = 1.\n",
    "\n",
    "#material parameters (actual values and in lattice units)\n",
    "E = 0.1/0.1731\n",
    "E_nd = T/(L*L)*E\n",
    "nu = .7\n",
    "K = E/(2*(1-nu))\n",
    "K_nd = K*T/L**2\n",
    "mu = E/(2*(1+nu))\n",
    "mu_nd = mu*T/L**2\n",
    "theta = 1/3\n",
    "\n",
    "#define symbols\n",
    "u, v, LA = sp.symbols('u, v, LA')\n",
    "THETA, MU_ND, K_ND, GAMMA = sp.symbols('THETA, MU_ND, K_ND, GAMMA')\n",
    "\n",
    "#moment matrix\n",
    "M = sp.Matrix([[1,0,-1,0,1,-1,-1,1],[0,1,0,-1,1,1,-1,-1],[0,0,0,0,1,-1,1,-1],[1,1,1,1,2,2,2,2],\n",
    "    [1,-1,1,-1,0,0,0,0],[0,0,0,0,1,-1,-1,1],[0,0,0,0,1,1,-1,-1],[GAMMA,GAMMA,GAMMA,GAMMA,1+2*GAMMA,1+2*GAMMA,1+2*GAMMA,1+2*GAMMA]])\n",
    "\n",
    "#equilibrium moments in order\n",
    "Meq = [u,v,0,0,0,THETA*u,THETA*v,0]\n",
    "\n",
    "#relaxation parameters\n",
    "w10 = 0.\n",
    "w01 = 0.\n",
    "w11 = 1/(MU_ND/THETA+.5)\n",
    "ws = 1/(2*K_ND/(1+THETA)+.5)\n",
    "wd = 1/(2*MU_ND/(1-THETA)+.5)\n",
    "w12 = 1.5\n",
    "w21 = 1.5\n",
    "wf = 1.\n",
    "omega = [w10,w01,w11,ws,wd,w12,w21,wf]\n",
    "gamma = theta*.5/((1+theta)*((1/ws-.5).evalf(subs={K_ND:K_nd,THETA:theta})-.5))\n",
    "\n",
    "#initial condition\n",
    "def u_init(x,y):\n",
    "    return 0.\n",
    "\n",
    "def v_init(x,y):\n",
    "    return 0.\n",
    "\n",
    "dico = {\n",
    "    'box' : {'x': [0,L_box_nd], 'y': [0,L_box_nd], 'label': -1},\n",
    "    'space_step': dx_nd,\n",
    "    'scheme_velocity': LA,\n",
    "    'parameters': {LA: la_nd,\n",
    "            THETA: theta,\n",
    "            MU_ND: mu_nd,\n",
    "            K_ND: K_nd,\n",
    "            GAMMA: gamma,\n",
    "            },\n",
    "    'init': {u: u_init, v: v_init},\n",
    "    'generator': 'cython',\n",
    "    'lbm_algorithm': {'name': pylbm.algorithm.BaseAlgorithm},\n",
    "    'schemes':[\n",
    "            {\n",
    "                'velocities': list(range(1,9)),\n",
    "                'conserved_moments': [u,v],\n",
    "                'M': M,\n",
    "                'equilibrium': Meq,\n",
    "                'relaxation_parameters': omega,\n",
    "                'source_terms': {u: 0., v: 0.}\n",
    "                }]\n",
    "    }"
   ]
  },
  {
   "cell_type": "markdown",
   "id": "ef4869c8-547f-4e18-bdf3-fe422568da66",
   "metadata": {},
   "source": [
    "With this dictionary we can create a simulation and run it for 100 time steps.  "
   ]
  },
  {
   "cell_type": "code",
   "execution_count": 5,
   "id": "f84b5780-1fd8-4f18-894f-b9777d18f147",
   "metadata": {},
   "outputs": [],
   "source": [
    "sim = pylbm.Simulation(dico)\n",
    "for i in range(100):\n",
    "    sim.one_time_step()"
   ]
  },
  {
   "cell_type": "markdown",
   "id": "ec94a000-c1d7-4199-b850-27bf426a3cfa",
   "metadata": {},
   "source": [
    "## 3. Extracting Results and Other Information\n",
    "\n",
    "### 3.1 Solution quantities\n",
    "\n",
    "The computed moments and populations can be accessed from the simulation object: \n",
    "\n",
    "        sim.m[i]\n",
    "        sim.m_halo[i]\n",
    "        sim.f[i]\n",
    "        sim.f_halo[i]\n",
    "for the i-th moment/population (in the order we saw above, e.g. $m[0]=m_{10}=u$; for conserved moments we can also use `sim.m[u]` and `sim.m[v]`). These quantities are stored in 2D-Arrays the size of the grid and are in post-collision state. When creating the domain of the simulation, pylbm generates a layer of ghost nodes around the bounding box, called halo. These nodes are used for handling of the boundary conditions. `sim.m[i]` returns the moment i for all nodes inside the domain, while `sim.m_halo[i]` includes the ghost nodes as well.\n",
    "\n",
    "### 3.2 Domain information\n",
    "\n",
    "For plotting results, computing error norms etc. it is also useful to get domain information:\n",
    "\n",
    "        sim.nt: current time step\n",
    "        sim.t: current time (increments in dt)\n",
    "        sim.domain.x: vector of x-coordinates of the lattice inside the domain\n",
    "        sim.domain.x_halo: vector of x-coordinates of the lattice including ghost nodes\n",
    "        sim.domain.y / sim.domain.y_halo: similar\n",
    "        sim.domain.coords[i] / sim.domain.coords_halo[i]: general method to get coordinate vectors (e.g. i = 0 gives x coordinates)\n",
    "        sim.domain.visualize(): show a plot of the domain\n",
    "        sim.domain.in_or_out: 2D-array the size of the lattie including ghost nodes with a flag for each node, indicating if the node is inside the domain or outside\n",
    "        sim.domain.valin: value of the flag for inside nodes (standard vaue set to 999)\n",
    "        sim.domain.valout: value of the flag for outside nodes (standard value set to -1)\n",
    "Let's get some information about our simulation:    \n",
    "\n"
   ]
  },
  {
   "cell_type": "code",
   "execution_count": 12,
   "id": "c304f394-b6b8-4470-b559-4e889b37417e",
   "metadata": {},
   "outputs": [
    {
     "data": {
      "image/png": "[encoded data removed]",
      "text/plain": [
       "<Figure size 600x400 with 1 Axes>"
      ]
     },
     "metadata": {},
     "output_type": "display_data"
    },
    {
     "data": {
      "text/plain": [
       "<pylbm.viewer.matplotlib_viewer.Fig at 0x2aab5b149f30>"
      ]
     },
     "execution_count": 12,
     "metadata": {},
     "output_type": "execute_result"
    }
   ],
   "source": [
    "sim.domain.visualize()"
   ]
  },
  {
   "cell_type": "markdown",
   "id": "2d0eb6b6-225e-4c53-b4d7-4219b6d1b157",
   "metadata": {},
   "source": [
    "The grey square is the bounding box inside which all the domain nodes lie, plotted as blue circles. The ghost nodes are marked as orange squares. Remember that we scaled everything to lattice units, where the grid spacing dx is exactly 1. Since we defined the physical length of the box as 1 and the physical space step as 0.1, the box in lattice units is scaled to a side legth of 10, with 10 nodes inside the domain in each direction. When defining a domain in this fashion the boundary (the edge of the grey square) will always be placed at one half of the grid spacing. Therefore the first node in the lower left corner has coordinates $(0.5,0.5)$ "
   ]
  },
  {
   "cell_type": "code",
   "execution_count": 26,
   "id": "e9816f13-b7d0-4ee4-97b4-6bfdf38d4cfb",
   "metadata": {},
   "outputs": [
    {
     "name": "stdout",
     "output_type": "stream",
     "text": [
      "sim.x = [0.5 1.5 2.5 3.5 4.5 5.5 6.5 7.5 8.5 9.5] , sim.x.size = 10\n",
      "sim.x_halo = [-0.5  0.5  1.5  2.5  3.5  4.5  5.5  6.5  7.5  8.5  9.5 10.5] , sim.x_halo.size = 12\n"
     ]
    }
   ],
   "source": [
    "print('sim.x =', sim.domain.x, ', sim.x.size =', sim.domain.x.size)\n",
    "print('sim.x_halo =', sim.domain.x_halo, ', sim.x_halo.size =', sim.domain.x_halo.size)"
   ]
  },
  {
   "cell_type": "markdown",
   "id": "cb49d387-7797-443b-9324-e4edf12f0847",
   "metadata": {},
   "source": [
    "As we can see these quantities have different shapes so we have to be careful when extracting results and choose if need the array including or excluding the layer of ghost nodes. `sim.m[i][j,k]` stores the value of $m_{i}$ for the node with coordinates `sim.x[j]` and `sim.y[k]`, while `sim.m_halo[i][j,k]` holds the value of $m_{i}$ for the node with coordinates `sim.x_halo[j]` and `sim.y_halo[k]`."
   ]
  },
  {
   "cell_type": "code",
   "execution_count": 28,
   "id": "02847cc2-f84d-42a8-bf86-58ab208e5705",
   "metadata": {},
   "outputs": [
    {
     "name": "stdout",
     "output_type": "stream",
     "text": [
      "sim.m[0] =\n",
      "[[0. 0. 0. 0. 0. 0. 0. 0. 0. 0.]\n",
      " [0. 0. 0. 0. 0. 0. 0. 0. 0. 0.]\n",
      " [0. 0. 0. 0. 0. 0. 0. 0. 0. 0.]\n",
      " [0. 0. 0. 0. 0. 0. 0. 0. 0. 0.]\n",
      " [0. 0. 0. 0. 0. 0. 0. 0. 0. 0.]\n",
      " [0. 0. 0. 0. 0. 0. 0. 0. 0. 0.]\n",
      " [0. 0. 0. 0. 0. 0. 0. 0. 0. 0.]\n",
      " [0. 0. 0. 0. 0. 0. 0. 0. 0. 0.]\n",
      " [0. 0. 0. 0. 0. 0. 0. 0. 0. 0.]\n",
      " [0. 0. 0. 0. 0. 0. 0. 0. 0. 0.]]\n",
      "sim.m[0].shape = (10, 10)\n"
     ]
    }
   ],
   "source": [
    "print('sim.m[0] =')\n",
    "print(sim.m[0])\n",
    "print('sim.m[0].shape =', sim.m[0].shape)"
   ]
  },
  {
   "cell_type": "code",
   "execution_count": 29,
   "id": "973d526a-1544-4c21-bac6-9b28473959a2",
   "metadata": {},
   "outputs": [
    {
     "name": "stdout",
     "output_type": "stream",
     "text": [
      "sim.m_halo[0] =\n",
      "[[0. 0. 0. 0. 0. 0. 0. 0. 0. 0. 0. 0.]\n",
      " [0. 0. 0. 0. 0. 0. 0. 0. 0. 0. 0. 0.]\n",
      " [0. 0. 0. 0. 0. 0. 0. 0. 0. 0. 0. 0.]\n",
      " [0. 0. 0. 0. 0. 0. 0. 0. 0. 0. 0. 0.]\n",
      " [0. 0. 0. 0. 0. 0. 0. 0. 0. 0. 0. 0.]\n",
      " [0. 0. 0. 0. 0. 0. 0. 0. 0. 0. 0. 0.]\n",
      " [0. 0. 0. 0. 0. 0. 0. 0. 0. 0. 0. 0.]\n",
      " [0. 0. 0. 0. 0. 0. 0. 0. 0. 0. 0. 0.]\n",
      " [0. 0. 0. 0. 0. 0. 0. 0. 0. 0. 0. 0.]\n",
      " [0. 0. 0. 0. 0. 0. 0. 0. 0. 0. 0. 0.]\n",
      " [0. 0. 0. 0. 0. 0. 0. 0. 0. 0. 0. 0.]\n",
      " [0. 0. 0. 0. 0. 0. 0. 0. 0. 0. 0. 0.]]\n",
      "sim.m_halo[0].shape = (12, 12)\n"
     ]
    }
   ],
   "source": [
    "print('sim.m_halo[0] =')\n",
    "print(sim.m_halo[0])\n",
    "print('sim.m_halo[0].shape =', sim.m_halo[0].shape)"
   ]
  },
  {
   "cell_type": "markdown",
   "id": "d0e52ea4-f678-4e46-b14f-fd36107149fa",
   "metadata": {},
   "source": [
    "For more complicated geometries and when using MPI (where every process only sees a part of the entire domain), the most straight forward to extract quantities from inside the domain is to create a mask using `sim.domain.in_or_out` (which returns an array for every node, including ghost nodes, containing a flag if the node is inside or outside the domain). "
   ]
  },
  {
   "cell_type": "code",
   "execution_count": 31,
   "id": "9bd4e4fd-68bd-4c6b-88a9-3b8e3778d3a1",
   "metadata": {},
   "outputs": [
    {
     "name": "stdout",
     "output_type": "stream",
     "text": [
      "sim.domain.in_or_out =\n",
      "[[ -1.  -1.  -1.  -1.  -1.  -1.  -1.  -1.  -1.  -1.  -1.  -1.]\n",
      " [ -1. 999. 999. 999. 999. 999. 999. 999. 999. 999. 999.  -1.]\n",
      " [ -1. 999. 999. 999. 999. 999. 999. 999. 999. 999. 999.  -1.]\n",
      " [ -1. 999. 999. 999. 999. 999. 999. 999. 999. 999. 999.  -1.]\n",
      " [ -1. 999. 999. 999. 999. 999. 999. 999. 999. 999. 999.  -1.]\n",
      " [ -1. 999. 999. 999. 999. 999. 999. 999. 999. 999. 999.  -1.]\n",
      " [ -1. 999. 999. 999. 999. 999. 999. 999. 999. 999. 999.  -1.]\n",
      " [ -1. 999. 999. 999. 999. 999. 999. 999. 999. 999. 999.  -1.]\n",
      " [ -1. 999. 999. 999. 999. 999. 999. 999. 999. 999. 999.  -1.]\n",
      " [ -1. 999. 999. 999. 999. 999. 999. 999. 999. 999. 999.  -1.]\n",
      " [ -1. 999. 999. 999. 999. 999. 999. 999. 999. 999. 999.  -1.]\n",
      " [ -1.  -1.  -1.  -1.  -1.  -1.  -1.  -1.  -1.  -1.  -1.  -1.]]\n",
      "sim.domain.in_or_out.shape = (12, 12)\n"
     ]
    }
   ],
   "source": [
    "print('sim.domain.in_or_out =')\n",
    "print(sim.domain.in_or_out)\n",
    "print('sim.domain.in_or_out.shape =', sim.domain.in_or_out.shape)"
   ]
  },
  {
   "cell_type": "code",
   "execution_count": 33,
   "id": "c924f8f8-2e1f-4075-9ae4-f7112809b8ee",
   "metadata": {},
   "outputs": [
    {
     "name": "stdout",
     "output_type": "stream",
     "text": [
      "[[False False False False False False False False False False False False]\n",
      " [False  True  True  True  True  True  True  True  True  True  True False]\n",
      " [False  True  True  True  True  True  True  True  True  True  True False]\n",
      " [False  True  True  True  True  True  True  True  True  True  True False]\n",
      " [False  True  True  True  True  True  True  True  True  True  True False]\n",
      " [False  True  True  True  True  True  True  True  True  True  True False]\n",
      " [False  True  True  True  True  True  True  True  True  True  True False]\n",
      " [False  True  True  True  True  True  True  True  True  True  True False]\n",
      " [False  True  True  True  True  True  True  True  True  True  True False]\n",
      " [False  True  True  True  True  True  True  True  True  True  True False]\n",
      " [False  True  True  True  True  True  True  True  True  True  True False]\n",
      " [False False False False False False False False False False False False]]\n"
     ]
    }
   ],
   "source": [
    "mask_in = sim.domain.in_or_out == sim.domain.valin\n",
    "print(mask_in)"
   ]
  },
  {
   "cell_type": "markdown",
   "id": "c543847d-94ae-4633-98c2-165460f9abd4",
   "metadata": {},
   "source": [
    "With this mask we can extract quantities from inside the domain, e.g. `sim.m_halo[0][mask_in]`. Note that we have to use 'halo-quantities' since the mask is defined over the entire domain including ghost nodes.  "
   ]
  },
  {
   "cell_type": "code",
   "execution_count": null,
   "id": "542c4871-b185-4602-8c45-a149bbe85a2f",
   "metadata": {},
   "outputs": [],
   "source": []
  }
 ],
 "metadata": {
  "kernelspec": {
   "display_name": "testenv",
   "language": "python",
   "name": "testenv"
  },
  "language_info": {
   "codemirror_mode": {
    "name": "ipython",
    "version": 3
   },
   "file_extension": ".py",
   "mimetype": "text/x-python",
   "name": "python",
   "nbconvert_exporter": "python",
   "pygments_lexer": "ipython3",
   "version": "3.10.4"
  }
 },
 "nbformat": 4,
 "nbformat_minor": 5
}
